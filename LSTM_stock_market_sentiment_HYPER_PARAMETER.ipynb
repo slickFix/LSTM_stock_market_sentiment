{
 "cells": [
  {
   "cell_type": "markdown",
   "metadata": {},
   "source": [
    "# Modeling Stock Market Sentiment with LSTM "
   ]
  },
  {
   "cell_type": "code",
   "execution_count": null,
   "metadata": {},
   "outputs": [],
   "source": [
    "# Suppress warnings \n",
    "import warnings\n",
    "warnings.filterwarnings('ignore')"
   ]
  },
  {
   "cell_type": "code",
   "execution_count": null,
   "metadata": {},
   "outputs": [],
   "source": [
    "# importing libraries\n",
    "\n",
    "import os\n",
    "import re\n",
    "import string\n",
    "import pickle\n",
    "import numpy as np\n",
    "import pandas as pd\n",
    "import tensorflow as tf\n",
    "import  matplotlib.pyplot as plt\n",
    "\n",
    "from datetime import datetime\n",
    "from sklearn.model_selection import train_test_split\n",
    "from collections import Counter"
   ]
  },
  {
   "cell_type": "code",
   "execution_count": null,
   "metadata": {},
   "outputs": [],
   "source": [
    "# Display\n",
    "\n",
    "pd.set_option('max_colwidth', 800)\n",
    "pd.options.display.max_columns = None\n",
    "pd.options.display.max_rows = None"
   ]
  },
  {
   "cell_type": "code",
   "execution_count": null,
   "metadata": {},
   "outputs": [],
   "source": [
    "# current directory\n",
    "os.getcwd()"
   ]
  },
  {
   "cell_type": "markdown",
   "metadata": {},
   "source": [
    "## Processing Data\n",
    "\n",
    "\n",
    "Data used here is from **StockTwits.com** which is a social media network for traders and investors to share their views about the stock market. When a user posts a message, they tag the relevant stock ticker [$SPY in our case which is for S&P 500 index fund] and have option to tag the message with their sentiment - \"bullish\" or \"bearish\""
   ]
  },
  {
   "cell_type": "markdown",
   "metadata": {},
   "source": [
    "#### Read and view data"
   ]
  },
  {
   "cell_type": "code",
   "execution_count": null,
   "metadata": {},
   "outputs": [],
   "source": [
    "# read data from csv file\n",
    "data = pd.read_csv('StockTwits_SPY_Sentiment_2017.gz',encoding='utf-8',index_col=0)"
   ]
  },
  {
   "cell_type": "code",
   "execution_count": null,
   "metadata": {},
   "outputs": [],
   "source": [
    "data.head()"
   ]
  },
  {
   "cell_type": "code",
   "execution_count": null,
   "metadata": {},
   "outputs": [],
   "source": [
    "# Defining text messages and their labels\n",
    "\n",
    "messages = data.message.values\n",
    "labels = data.sentiment.values"
   ]
  },
  {
   "cell_type": "markdown",
   "metadata": {},
   "source": [
    "#### Preprocess messages\n",
    "\n",
    "Preprocessing the raw text data to normalize for the context. Normalizing for known unique 'entities' that carry similar contextual meaning. \n",
    "\n",
    "Therefore replacing the references to \n",
    "* specific stock ticker ($SPY), \n",
    "* user names, \n",
    "* url links,\n",
    "* numbers with special tokenidentifying the entity \n",
    "\n",
    "Converting text into lower case and removing punctuations.               "
   ]
  },
  {
   "cell_type": "code",
   "execution_count": null,
   "metadata": {},
   "outputs": [],
   "source": [
    "def preprocess_messages(text):\n",
    "    \n",
    "    \n",
    "    # SAVING REGEX PATTERNS\n",
    "    REGEX_PRICE_SIGN = re.compile(r'\\$(?!\\d*\\.?\\d+%)\\d*\\.?\\d+|(?!\\d*\\.?\\d+%)\\d*\\.?\\d+\\$')\n",
    "    REGEX_PRICE_NOSIGN = re.compile(r'(?!\\d*\\.?\\d+%)(?!\\d*\\.?\\d+k)\\d*\\.?\\d+')\n",
    "    REGEX_TICKER = re.compile('\\$[a-zA-Z]+')\n",
    "    REGEX_USER = re.compile('\\@\\w+')\n",
    "    REGEX_LINK = re.compile('https?:\\/\\/[^\\s]+')\n",
    "    REGEX_HTML_ENTITY = re.compile('\\&\\w+')\n",
    "    REGEX_NON_ACSII = re.compile('[^\\x00-\\x7f]')\n",
    "    \n",
    "    #string.punctuation - '!\"#$%&\\'()*+,-./:;<=>?@[\\\\]^_`{|}~'\n",
    "    #string.punctuation.replace('<', '').replace('>', '')\n",
    "    #--> '!\"#$%&\\'()*+,-./:;=?@[\\\\]^_`{|}~'\n",
    "    #re.escape(string.punctuation.replace('<', ''))\n",
    "    #--> '\\\\!\\\\\"\\\\#\\\\$\\\\%\\\\&\\\\\\'\\\\(\\\\)\\\\*\\\\+\\\\,\\\\-\\\\.\\\\/\\\\:\\\\;\\\\=\\\\>\\\\?\\\\@\\\\[\\\\\\\\\\\\]\\\\^_\\\\`\\\\{\\\\|\\\\}\\\\~'\n",
    "    \n",
    "    REGEX_PUNCTUATION = re.compile('[%s]' % re.escape(string.punctuation.replace('<', '').replace('>', '')))\n",
    "    REGEX_NUMBER = re.compile(r'[-+]?[0-9]+')\n",
    "    \n",
    "    \n",
    "    # CONVERTING TO LOWERCASE\n",
    "    text = text.lower()\n",
    "    \n",
    "    # REPLACE ST \"ENTITITES\" WITH A UNIQUE TOKEN\n",
    "    text = re.sub(REGEX_TICKER, ' <TICKER> ', text)\n",
    "    text = re.sub(REGEX_USER, ' <USER> ', text)\n",
    "    text = re.sub(REGEX_LINK, ' <LINK> ', text)\n",
    "    text = re.sub(REGEX_PRICE_SIGN, ' <PRICE> ', text)\n",
    "    text = re.sub(REGEX_PRICE_NOSIGN, ' <NUMBER> ', text)\n",
    "    text = re.sub(REGEX_NUMBER, ' <NUMBER> ', text)\n",
    "    # REMOVE EXTRANEOUS TEXT DATA\n",
    "    text = re.sub(REGEX_HTML_ENTITY, \"\", text)\n",
    "    text = re.sub(REGEX_NON_ACSII, \"\", text)\n",
    "    text = re.sub(REGEX_PUNCTUATION, \"\", text)\n",
    "    \n",
    "    # Tokenizing and removing < and > that are not in special tokens\n",
    "    words = \" \".join(token.replace(\"<\", \"\").replace(\">\", \"\")\n",
    "                     if token not in ['<TICKER>', '<USER>', '<LINK>', '<PRICE>', '<NUMBER>']\n",
    "                     else token\n",
    "                     for token in text.split())\n",
    "\n",
    "    return words"
   ]
  },
  {
   "cell_type": "code",
   "execution_count": null,
   "metadata": {},
   "outputs": [],
   "source": [
    "messages = np.array([preprocess_messages(msg) for msg in messages])"
   ]
  },
  {
   "cell_type": "markdown",
   "metadata": {},
   "source": [
    "#### Generate Vocab to index mapping\n",
    "\n",
    "Encoding words to numbers for the alogrithm to work with inputs by encoding each word to a unique index."
   ]
  },
  {
   "cell_type": "code",
   "execution_count": null,
   "metadata": {},
   "outputs": [],
   "source": [
    "vocab = \" \".join(messages).split()"
   ]
  },
  {
   "cell_type": "code",
   "execution_count": null,
   "metadata": {},
   "outputs": [],
   "source": [
    "len(vocab)"
   ]
  },
  {
   "cell_type": "code",
   "execution_count": null,
   "metadata": {},
   "outputs": [],
   "source": [
    "len(set(vocab))"
   ]
  },
  {
   "cell_type": "code",
   "execution_count": null,
   "metadata": {},
   "outputs": [],
   "source": [
    "word_idx = {word:idx for idx,word in enumerate(sorted(set(vocab)),1)}\n",
    "idx_word = {idx:word for word,idx in word_idx.items()}    "
   ]
  },
  {
   "cell_type": "markdown",
   "metadata": {},
   "source": [
    "#### Checking messages length"
   ]
  },
  {
   "cell_type": "code",
   "execution_count": null,
   "metadata": {},
   "outputs": [],
   "source": [
    "message_len = [len(msg) for msg in messages]\n",
    "\n",
    "print('Minimum length : ',min(message_len))\n",
    "print('Maximum length : ',max(message_len))\n",
    "print('Mean length : ',np.mean(message_len))"
   ]
  },
  {
   "cell_type": "code",
   "execution_count": null,
   "metadata": {},
   "outputs": [],
   "source": [
    "min_idx = [i  for i in range(len(message_len)) if message_len[i]==0]\n",
    "print(\"Indexes where message length is 0 :\",min_idx)"
   ]
  },
  {
   "cell_type": "code",
   "execution_count": null,
   "metadata": {},
   "outputs": [],
   "source": [
    "print('messages length: ',len(messages))\n",
    "print('no of labels: ',len(labels))"
   ]
  },
  {
   "cell_type": "code",
   "execution_count": null,
   "metadata": {},
   "outputs": [],
   "source": [
    "# dropping zero message length message\n",
    "\n",
    "messages = np.delete(messages,min_idx)\n",
    "labels = np.delete(labels,min_idx)"
   ]
  },
  {
   "cell_type": "code",
   "execution_count": null,
   "metadata": {},
   "outputs": [],
   "source": [
    "print('messages length after removing of zero length messages: ',len(messages))\n",
    "print('no of labels after removing of zero length messages: ',len(labels))"
   ]
  },
  {
   "cell_type": "markdown",
   "metadata": {},
   "source": [
    "#### Encoding Messages and Labels to the indexes"
   ]
  },
  {
   "cell_type": "code",
   "execution_count": null,
   "metadata": {},
   "outputs": [],
   "source": [
    "def encode_messages(messages,word_idx):\n",
    "    encoded_msg = [] \n",
    "    for msg in messages:\n",
    "        encoded_msg.append([word_idx[word] for word in msg.split()])\n",
    "    \n",
    "    return np.array(encoded_msg)"
   ]
  },
  {
   "cell_type": "code",
   "execution_count": null,
   "metadata": {},
   "outputs": [],
   "source": [
    "encoded_msg = encode_messages(messages,word_idx)\n",
    "encoded_msg"
   ]
  },
  {
   "cell_type": "code",
   "execution_count": null,
   "metadata": {},
   "outputs": [],
   "source": [
    "data.sentiment.nunique()"
   ]
  },
  {
   "cell_type": "code",
   "execution_count": null,
   "metadata": {},
   "outputs": [],
   "source": [
    "data.sentiment.value_counts()"
   ]
  },
  {
   "cell_type": "code",
   "execution_count": null,
   "metadata": {},
   "outputs": [],
   "source": [
    "def encode_labels(labels):\n",
    "    return np.array([0 if label=='bullish' else 1 for label in labels ])"
   ]
  },
  {
   "cell_type": "code",
   "execution_count": null,
   "metadata": {},
   "outputs": [],
   "source": [
    "encoded_label = encode_labels(labels)\n",
    "encoded_label"
   ]
  },
  {
   "cell_type": "markdown",
   "metadata": {},
   "source": [
    "#### Zero Padding the messages"
   ]
  },
  {
   "cell_type": "code",
   "execution_count": null,
   "metadata": {},
   "outputs": [],
   "source": [
    "#finding the maximum sentence\n",
    "\n",
    "len_encoded_msg = [len(i) for i in encoded_msg]\n",
    "seq_len1 = max(len_encoded_msg)\n",
    "seq_len1"
   ]
  },
  {
   "cell_type": "code",
   "execution_count": null,
   "metadata": {},
   "outputs": [],
   "source": [
    "print('Minimum length : ',min(len_encoded_msg))\n",
    "print('Maximum length : ',max(len_encoded_msg))\n",
    "print('Mean length : ',np.mean(len_encoded_msg))"
   ]
  },
  {
   "cell_type": "code",
   "execution_count": null,
   "metadata": {},
   "outputs": [],
   "source": [
    "plt.hist(len_encoded_msg)\n",
    "plt.show()"
   ]
  },
  {
   "cell_type": "code",
   "execution_count": null,
   "metadata": {},
   "outputs": [],
   "source": [
    "# padding the encoded_messages\n",
    "\n",
    "padd_msg = np.zeros((len(encoded_msg),seq_len1))\n",
    "\n",
    "for i,message in enumerate(encoded_msg):\n",
    "    padd_msg[i,seq_len1-len(message):] = message"
   ]
  },
  {
   "cell_type": "code",
   "execution_count": null,
   "metadata": {},
   "outputs": [],
   "source": [
    "padd_msg.shape"
   ]
  },
  {
   "cell_type": "markdown",
   "metadata": {},
   "source": [
    "#### Train,Test,Validation split"
   ]
  },
  {
   "cell_type": "code",
   "execution_count": null,
   "metadata": {},
   "outputs": [],
   "source": [
    "# creating x and test split\n",
    "\n",
    "x, x_test, y, y_test = train_test_split(padd_msg, encoded_label, test_size=0.1, random_state=42)"
   ]
  },
  {
   "cell_type": "code",
   "execution_count": null,
   "metadata": {},
   "outputs": [],
   "source": [
    "# printing the shapes of the respective sets\n",
    "\n",
    "print(\"Shape of x : \",x.shape)\n",
    "print(\"Shape of y : \",y.shape)\n",
    "print(\"Shape of x_test set : \",x_test.shape)\n",
    "print(\"Shape of y_test set : \",y_test.shape)"
   ]
  },
  {
   "cell_type": "code",
   "execution_count": null,
   "metadata": {},
   "outputs": [],
   "source": [
    "# creating train and validation split\n",
    "\n",
    "x_train, x_val, y_train, y_val = train_test_split(x, y, test_size=0.1, random_state=42)"
   ]
  },
  {
   "cell_type": "code",
   "execution_count": null,
   "metadata": {},
   "outputs": [],
   "source": [
    "# printing the shapes of the respective sets\n",
    "\n",
    "print(\"Shape of x_train : \",x_train.shape)\n",
    "print(\"Shape of y_train : \",y_train.shape)\n",
    "print(\"Shape of x_val set : \",x_val.shape)\n",
    "print(\"Shape of y_val set : \",y_val.shape)"
   ]
  },
  {
   "cell_type": "markdown",
   "metadata": {},
   "source": [
    "## Building and Training LSTM network"
   ]
  },
  {
   "cell_type": "code",
   "execution_count": null,
   "metadata": {},
   "outputs": [],
   "source": [
    "def create_placeholders(batch_size,lstm_neurons_li):\n",
    "    'creating placeholders'\n",
    "    \n",
    "    with tf.variable_scope('Placeholders'):\n",
    "        x_ph = tf.placeholder(tf.int32,[None,None],name ='x_ph')\n",
    "        y_ph = tf.placeholder(tf.int32,None, name='y_ph')\n",
    "        keep_prob_ph = tf.placeholder(tf.float32,name='keep_prob_ph')\n",
    "            \n",
    "    with tf.variable_scope('LSTM_Placeholders'):        \n",
    "        init_state_l1_ph = tf.placeholder(tf.float32,[2,batch_size,lstm_neurons_li[0]],name='l1_state')\n",
    "        init_state_l2_ph = tf.placeholder(tf.float32,[2,batch_size,lstm_neurons_li[1]],name='l2_state')\n",
    "    \n",
    "    return x_ph,y_ph,keep_prob_ph,init_state_l1_ph,init_state_l2_ph"
   ]
  },
  {
   "cell_type": "code",
   "execution_count": null,
   "metadata": {},
   "outputs": [],
   "source": [
    "def forward_propagation(x_ph,vocab_size,embed_size,lstm_neurons_li,keep_prob_ph,batch_size,\n",
    "                        init_state_l1_ph,init_state_l2_ph):\n",
    "    \n",
    "    # creating embedding layer\n",
    "    with tf.variable_scope('Embedding_layer'):\n",
    "        embedding = tf.Variable(tf.random_uniform((vocab_size,embed_size),minval=-1,maxval=1))\n",
    "        embed_layer = tf.nn.embedding_lookup(embedding,x_ph)\n",
    "    \n",
    "    # creating LSTM layer\n",
    "    with tf.variable_scope('LSTM_layer'):\n",
    "        # creating lstm cells\n",
    "        lstms = [tf.contrib.rnn.BasicLSTMCell(size,name='lstm_cell') for size in lstm_neurons_li]\n",
    "        # adding dopout to the cells\n",
    "        drops = [tf.contrib.rnn.DropoutWrapper(lstm,output_keep_prob = keep_prob_ph) for lstm in lstms]\n",
    "        # stacking multiple LSTM layers\n",
    "        cell = tf.contrib.rnn.MultiRNNCell(drops,state_is_tuple=True)\n",
    "        \n",
    "        \n",
    "#         # getting initial state of all zeros\n",
    "#         init_state = cell.zero_state(batch_size,tf.float32)\n",
    "#         #init_state = tf.identity(init_state, name=\"init_state\")\n",
    "\n",
    "        rnn_tuple_state = tuple(\n",
    "            [tf.contrib.rnn.LSTMStateTuple(init_state_l1_ph[0], init_state_l1_ph[1]),\n",
    "             tf.contrib.rnn.LSTMStateTuple(init_state_l2_ph[0], init_state_l2_ph[1]) ]\n",
    "             )\n",
    "        \n",
    "        \n",
    "        lstm_outputs,final_state = tf.nn.dynamic_rnn(cell,embed_layer,initial_state=rnn_tuple_state)\n",
    "    \n",
    "    # creating sigmoid fc layer\n",
    "    with tf.variable_scope('FC_layer'):\n",
    "        a_output = tf.contrib.layers.fully_connected(lstm_outputs[:,-1],1,activation_fn=tf.sigmoid)\n",
    "        \n",
    "        tf.summary.histogram('Predictions',a_output)\n",
    "    \n",
    "    return a_output,cell,final_state"
   ]
  },
  {
   "cell_type": "code",
   "execution_count": null,
   "metadata": {},
   "outputs": [],
   "source": [
    "def compute_cost(a_output,y_ph):\n",
    "    \n",
    "    with tf.variable_scope('Loss'):\n",
    "        cost = tf.losses.mean_squared_error(y_ph,a_output)\n",
    "        \n",
    "        tf.summary.scalar(\"Loss\", cost)\n",
    "    \n",
    "    return cost"
   ]
  },
  {
   "cell_type": "code",
   "execution_count": null,
   "metadata": {},
   "outputs": [],
   "source": [
    "# accuracy function\n",
    "\n",
    "def acc_fn(a_output,y_ph):\n",
    "    \n",
    "    with tf.variable_scope('Accuracy'):\n",
    "        correct_pred = tf.equal(tf.cast(tf.round(a_output),tf.int32),y_ph)\n",
    "        accuracy = tf.reduce_mean(tf.cast(correct_pred,tf.float32))\n",
    "        \n",
    "        tf.summary.scalar(\"Accuracy\", accuracy)\n",
    "    \n",
    "    return accuracy"
   ]
  },
  {
   "cell_type": "code",
   "execution_count": null,
   "metadata": {},
   "outputs": [],
   "source": [
    "def get_batches(x,y,batch_size = 100):\n",
    "    \n",
    "    n_batches = len(x)//batch_size\n",
    "    \n",
    "    # removing left out records\n",
    "    x,y = x[:n_batches*batch_size],y[:n_batches*batch_size]\n",
    "    \n",
    "    for i in range(0,len(x),batch_size):\n",
    "        yield x[i:i+batch_size],y[i:i+batch_size]"
   ]
  },
  {
   "cell_type": "code",
   "execution_count": null,
   "metadata": {},
   "outputs": [],
   "source": [
    "# model_training\n",
    "\n",
    "def model_train(x_train,y_train,x_val,y_val,vocab_size,hparam,\n",
    "                embed_size=300,lstm_neurons_li=[128,64],\n",
    "                keep_prob=0.5,learning_rate=1e-1,epochs=50,batch_size=256):\n",
    "    \n",
    "    print(str(hparam).center(50,'-'))\n",
    "    \n",
    "    # reset default graph\n",
    "    tf.reset_default_graph()\n",
    "    \n",
    "    # create placeholder\n",
    "    x_ph,y_ph,keep_prob_ph,init_state_l1_ph,init_state_l2_ph = create_placeholders(batch_size,lstm_neurons_li)\n",
    "    \n",
    "    # forward propogation\n",
    "    a_output,cell,final_state = forward_propagation(x_ph,vocab_size,\n",
    "                                                    embed_size,\n",
    "                                                    lstm_neurons_li,\n",
    "                                                    keep_prob_ph,\n",
    "                                                    batch_size,\n",
    "                                                    init_state_l1_ph,\n",
    "                                                    init_state_l2_ph)    \n",
    "    \n",
    "    # cost calculation\n",
    "    cost = compute_cost(a_output,y_ph)\n",
    "    \n",
    "    # optimizers calculation\n",
    "    hparam_li = hparam.split('_')\n",
    "    \n",
    "    if hparam_li[-1] == 'AdadeltaOptimizer':\n",
    "        optimizer = tf.train.AdadeltaOptimizer(learning_rate=learning_rate).minimize(cost)\n",
    "        \n",
    "    if hparam_li[-1] == 'AdamOptimizer':\n",
    "        optimizer = tf.train.AdamOptimizer(learning_rate=learning_rate).minimize(cost) \n",
    "         \n",
    "    \n",
    "    # accuracy definition\n",
    "    accuracy = acc_fn(a_output,y_ph)\n",
    "    \n",
    "    saver = tf.train.Saver()\n",
    "    \n",
    "    print(\"Printing all trainable tensor_names\".center(50,'-'))\n",
    "    \n",
    "    print()\n",
    "    print(\"LSTM WEIGHTS\")\n",
    "    print()\n",
    "    \n",
    "    [print(n.name)for n in tf.trainable_variables('LSTM_layer')]\n",
    "    \n",
    "    [tf.summary.histogram(n.name, n)for n in tf.trainable_variables('LSTM_layer')]\n",
    "    \n",
    "    print()\n",
    "    print()\n",
    "    print(\"FC WIEGHTS\")\n",
    "    print()\n",
    "    \n",
    "    [print(n.name)for n in tf.trainable_variables('FC_layer')]\n",
    "    \n",
    "    [tf.summary.histogram(n.name, n)for n in tf.trainable_variables('FC_layer')]\n",
    "    \n",
    "    print()\n",
    "    print(\"TRAINING STARTS\".center(50,'-'))\n",
    "    \n",
    "    \n",
    "    summ = tf.summary.merge_all()\n",
    "    \n",
    "    with tf.Session() as sess:\n",
    "        sess.run(tf.global_variables_initializer())\n",
    "        n_batches = len(x_train)//batch_size\n",
    "        \n",
    "        writer_train = tf.summary.FileWriter('./tb/hparam/train/',sess.graph)\n",
    "        writer_val = tf.summary.FileWriter('./tb/hparam/val/')\n",
    "        \n",
    "        global_step = 0\n",
    "        \n",
    "        for epoch in range(epochs):\n",
    "            startime = datetime.now()\n",
    "            \n",
    "            state_l1 = np.zeros((2,batch_size,lstm_neurons_li[0]))\n",
    "            state_l2 = np.zeros((2,batch_size,lstm_neurons_li[1]))\n",
    "            \n",
    "            train_acc = []\n",
    "            for step,(x,y) in enumerate(get_batches(x_train,y_train,batch_size),1):\n",
    "                \n",
    "                global_step+=1\n",
    "                \n",
    "                print('.',end=' ')\n",
    "                \n",
    "                feed = {x_ph:x,\n",
    "                        y_ph:y.reshape(-1,1),\n",
    "                        keep_prob_ph:keep_prob,\n",
    "                        init_state_l1_ph:state_l1,\n",
    "                        init_state_l2_ph:state_l2}\n",
    "                \n",
    "                loss_,state,_,batch_acc, s = sess.run([cost,final_state,optimizer,accuracy,summ],feed_dict=feed)\n",
    "                \n",
    "                state_l1 = state[0]\n",
    "                state_l2 = state[1]\n",
    "                \n",
    "                writer_train.add_summary(s,global_step) # writing summary real time\n",
    "                \n",
    "                train_acc.append(batch_acc)\n",
    "                \n",
    "                \n",
    "                \n",
    "                if (step) % 17 == 0:\n",
    "                    \n",
    "                    val_acc = []\n",
    "                    #val_state = sess.run(lstm_cell.zero_state(batch_size, tf.float32))\n",
    "                    \n",
    "                    for xx, yy in get_batches(x_val, y_val, batch_size):\n",
    "                        feed_val = {x_ph: xx,\n",
    "                                y_ph: yy.reshape(-1,1),\n",
    "                                keep_prob_ph: 1,\n",
    "                                init_state_l1_ph:state_l1,\n",
    "                                init_state_l2_ph:state_l2}  \n",
    "                            #initial_state: val_state}\n",
    "\n",
    "                        val_batch_acc,s = sess.run([accuracy, summ], feed_dict=feed_val)                                                                \n",
    "                        val_acc.append(val_batch_acc)\n",
    "                        \n",
    "                    writer_val.add_summary(s,global_step) # writing summary real time\n",
    "                    \n",
    "                # after the last batch is used for training i.e. after every epoch of training, evaluating result\n",
    "                if (step)%n_batches == 0:\n",
    "                    \n",
    "                    val_acc = []            \n",
    "                    \n",
    "                    for xx,yy in get_batches(x_val,y_val,batch_size):\n",
    "                        feed_val = {x_ph:xx,\n",
    "                                    y_ph:yy.reshape(-1,1),\n",
    "                                    keep_prob_ph:1,\n",
    "                                    init_state_l1_ph:state_l1,\n",
    "                                    init_state_l2_ph:state_l2}                               \n",
    "                        \n",
    "                        val_batch_acc = sess.run([accuracy],feed_dict=feed_val)\n",
    "                        val_acc.append(val_batch_acc)\n",
    "                    \n",
    "                    stoptime = datetime.now()\n",
    "                    print()\n",
    "                    print(\"Epoch: {}/{}...\".format(epoch+1, epochs),\n",
    "                          \"Batch: {}/{}...\".format(step, n_batches),\n",
    "                          \"Train Loss: {:.3f}...\".format(loss_),\n",
    "                          \"Train Accruacy: {:.3f}...\".format(np.mean(train_acc)),\n",
    "                          \"Val Accuracy: {:.3f}\".format(np.mean(val_acc)),\n",
    "                          \"Epoch time: {}\".format(str(stoptime-startime)))\n",
    "            \n",
    "            #saver.save(sess,'./model_save/sentiment.ckpt',global_step = epoch+1)\n",
    "            \n",
    "            "
   ]
  },
  {
   "cell_type": "markdown",
   "metadata": {},
   "source": [
    "## Hyper parameter search"
   ]
  },
  {
   "cell_type": "code",
   "execution_count": null,
   "metadata": {},
   "outputs": [],
   "source": [
    "vocab_size = len(word_idx)+1\n",
    "\n",
    "#hyperparameter search\n",
    "learning_rate_li = [0.01,0.1]\n",
    "embedding_size_li = [300,650]\n",
    "batch_size_li = [128,256]\n",
    "optimizer_li = ['AdadeltaOptimizer','AdamOptimizer']\n",
    "\n",
    "\n",
    "for lr in learning_rate_li:\n",
    "    for embed_size in embedding_size_li:\n",
    "        for batch_size in batch_size_li:\n",
    "            for opti in optimizer_li:                \n",
    "                    \n",
    "                    \n",
    "                    hparam = \"learningrate\"+\"_\"+str(lr)+\"_\"+str(embed_size)+\"_\"+str(batch_size)+\"_\"+str(opti)\n",
    "\n",
    "                    model_train(x_train,y_train,x_val,y_val,\n",
    "                                vocab_size,\n",
    "                                hparam,\n",
    "                                embed_size=embed_size,\n",
    "                                lstm_neurons_li=[128,64],\n",
    "                                keep_prob=0.5,\n",
    "                                learning_rate=lr,\n",
    "                                epochs=50,\n",
    "                                batch_size=batch_size)\n",
    "\n",
    "\n"
   ]
  },
  {
   "cell_type": "code",
   "execution_count": null,
   "metadata": {},
   "outputs": [],
   "source": []
  }
 ],
 "metadata": {
  "kernelspec": {
   "display_name": "Python 3",
   "language": "python",
   "name": "python3"
  },
  "language_info": {
   "codemirror_mode": {
    "name": "ipython",
    "version": 3
   },
   "file_extension": ".py",
   "mimetype": "text/x-python",
   "name": "python",
   "nbconvert_exporter": "python",
   "pygments_lexer": "ipython3",
   "version": "3.6.5"
  }
 },
 "nbformat": 4,
 "nbformat_minor": 2
}
